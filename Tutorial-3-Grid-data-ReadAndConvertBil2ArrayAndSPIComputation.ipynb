{
 "cells": [
  {
   "cell_type": "markdown",
   "id": "16929c1e",
   "metadata": {},
   "source": [
    "### Code used for reading and converting raster files to array\n",
    "\n",
    "\n",
    "#### This code provide an automatic read of Bilraster files into array, and then organize the data in a time series to be used for further analysis.\n",
    "\n",
    "#### The code will read a total of Z .map files, and will reshape each file from a (X, Y) to a (1, X * Y), and will assing each file matrix to a different line. Therefore we will have a time-series matrix of (Z, X * Y) shape. \n",
    "\n",
    "Developed by: Thiago Victor Medeiros do Nascimento"
   ]
  },
  {
   "cell_type": "code",
   "execution_count": 35,
   "id": "8e2add31",
   "metadata": {},
   "outputs": [],
   "source": [
    "from pcraster import *\n",
    "import numpy as np\n",
    "from osgeo import gdal, gdalconst\n",
    "from osgeo import gdal_array\n",
    "from osgeo import osr\n",
    "import matplotlib.pylab as plt\n",
    "import subprocess\n",
    "import glob,os\n",
    "import time\n",
    "import rasterio\n",
    "import tqdm\n",
    "import pandas as pd\n",
    "\n",
    "import standard_precip\n",
    "from standard_precip import spi\n",
    "import warnings\n",
    "warnings.filterwarnings('ignore')"
   ]
  },
  {
   "cell_type": "markdown",
   "id": "1a2a4e39",
   "metadata": {},
   "source": [
    "Firstly we pre-read our dataset:"
   ]
  },
  {
   "cell_type": "markdown",
   "id": "9fcfe3f0",
   "metadata": {},
   "source": [
    "#### (a) Data lecture:"
   ]
  },
  {
   "cell_type": "code",
   "execution_count": 36,
   "id": "f2a4ee8a",
   "metadata": {},
   "outputs": [
    {
     "name": "stdout",
     "output_type": "stream",
     "text": [
      "The total number of files is: 468\n"
     ]
    }
   ],
   "source": [
    "path =r'C:\\Users\\User\\OneDrive\\IST\\RESEARCH\\5_SPI\\rondonia\\dnCHIRPS'\n",
    "filenames = glob.glob(path + \"/*.bil\")\n",
    "print(\"The total number of files is:\", len(filenames))"
   ]
  },
  {
   "cell_type": "markdown",
   "id": "0951f7f1",
   "metadata": {},
   "source": [
    "Firstly we take a look on the dataset:"
   ]
  },
  {
   "cell_type": "code",
   "execution_count": 37,
   "id": "c3ae6a4d",
   "metadata": {},
   "outputs": [
    {
     "name": "stdout",
     "output_type": "stream",
     "text": [
      "The total number of grids in the dataset is: 16330\n"
     ]
    }
   ],
   "source": [
    "mapfile = filenames[0]\n",
    "\n",
    "RasterLayer = rasterio.open(mapfile)\n",
    "\n",
    "ncols = RasterLayer.width\n",
    "nrows = RasterLayer.height\n",
    "\n",
    "numtotal = nrows*ncols\n",
    "\n",
    "print(\"The total number of grids in the dataset is:\", numtotal)"
   ]
  },
  {
   "cell_type": "markdown",
   "id": "ba561117",
   "metadata": {},
   "source": [
    "We create one array to be filled:"
   ]
  },
  {
   "cell_type": "code",
   "execution_count": 38,
   "id": "36d6ecbb",
   "metadata": {},
   "outputs": [
    {
     "data": {
      "text/plain": [
       "(468, 16330)"
      ]
     },
     "execution_count": 38,
     "metadata": {},
     "output_type": "execute_result"
    }
   ],
   "source": [
    "precmongrids = np.zeros((len(filenames),numtotal),dtype=np.float32)\n",
    "precmongrids.shape"
   ]
  },
  {
   "cell_type": "markdown",
   "id": "bf1f593e",
   "metadata": {},
   "source": [
    "Now we proceed with the data lecture and organization:"
   ]
  },
  {
   "cell_type": "code",
   "execution_count": 39,
   "id": "bd293d6c",
   "metadata": {},
   "outputs": [
    {
     "data": {
      "text/plain": [
       "array([[275, 279, 271, ..., 417, 403, 382]], dtype=int16)"
      ]
     },
     "execution_count": 39,
     "metadata": {},
     "output_type": "execute_result"
    }
   ],
   "source": [
    "RasterLayer = rasterio.open(mapfile)\n",
    "mapreadarray = RasterLayer.read()[0,:,:]\n",
    "mapreadarrayres = np.reshape(mapreadarray, (1, numtotal))\n",
    "mapreadarrayres"
   ]
  },
  {
   "cell_type": "markdown",
   "id": "5117aeaf",
   "metadata": {},
   "source": [
    "At this point, we use a for to go through each raster in our dataset (each raster represents a month), and organize the individual matrix in a unique dataset where each line will represent one month, and each row will represent one grid:"
   ]
  },
  {
   "cell_type": "code",
   "execution_count": 41,
   "id": "7f38a66a",
   "metadata": {},
   "outputs": [
    {
     "name": "stderr",
     "output_type": "stream",
     "text": [
      "100%|████████████████████████████████████████████████████████████████████████████████| 468/468 [00:05<00:00, 80.75it/s]"
     ]
    },
    {
     "name": "stdout",
     "output_type": "stream",
     "text": [
      "5.799858093261719\n"
     ]
    },
    {
     "name": "stderr",
     "output_type": "stream",
     "text": [
      "\n"
     ]
    }
   ],
   "source": [
    "start = time.time()\n",
    "i = 0\n",
    "for mapfile in tqdm.tqdm(filenames):\n",
    "       \n",
    "    RasterLayer = rasterio.open(mapfile)\n",
    "    mapreadarray = RasterLayer.read()[0,:,:]\n",
    "    mapreadarrayres = np.reshape(mapreadarray, (1, numtotal))\n",
    "    precmongrids[i,:] = mapreadarrayres\n",
    "    \n",
    "    i = i + 1\n",
    "end = time.time()\n",
    "print(end - start)"
   ]
  },
  {
   "cell_type": "markdown",
   "id": "05df1658",
   "metadata": {},
   "source": [
    "At this point we can just check the shape of our dataset. It should have 468 monhts and 16330 grids:"
   ]
  },
  {
   "cell_type": "code",
   "execution_count": 42,
   "id": "f6826538",
   "metadata": {},
   "outputs": [
    {
     "data": {
      "text/plain": [
       "(468, 16330)"
      ]
     },
     "execution_count": 42,
     "metadata": {},
     "output_type": "execute_result"
    }
   ],
   "source": [
    "precmongrids.shape"
   ]
  },
  {
   "cell_type": "markdown",
   "id": "cd867e26",
   "metadata": {},
   "source": [
    "Now we create a dataframe with our organized precipitation data:"
   ]
  },
  {
   "cell_type": "code",
   "execution_count": 44,
   "id": "7041bc9d",
   "metadata": {},
   "outputs": [
    {
     "data": {
      "text/html": [
       "<div>\n",
       "<style scoped>\n",
       "    .dataframe tbody tr th:only-of-type {\n",
       "        vertical-align: middle;\n",
       "    }\n",
       "\n",
       "    .dataframe tbody tr th {\n",
       "        vertical-align: top;\n",
       "    }\n",
       "\n",
       "    .dataframe thead th {\n",
       "        text-align: right;\n",
       "    }\n",
       "</style>\n",
       "<table border=\"1\" class=\"dataframe\">\n",
       "  <thead>\n",
       "    <tr style=\"text-align: right;\">\n",
       "      <th></th>\n",
       "      <th>0</th>\n",
       "      <th>1</th>\n",
       "      <th>2</th>\n",
       "      <th>3</th>\n",
       "      <th>4</th>\n",
       "      <th>5</th>\n",
       "      <th>6</th>\n",
       "      <th>7</th>\n",
       "      <th>8</th>\n",
       "      <th>9</th>\n",
       "      <th>...</th>\n",
       "      <th>16320</th>\n",
       "      <th>16321</th>\n",
       "      <th>16322</th>\n",
       "      <th>16323</th>\n",
       "      <th>16324</th>\n",
       "      <th>16325</th>\n",
       "      <th>16326</th>\n",
       "      <th>16327</th>\n",
       "      <th>16328</th>\n",
       "      <th>16329</th>\n",
       "    </tr>\n",
       "  </thead>\n",
       "  <tbody>\n",
       "    <tr>\n",
       "      <th>1981-01-31</th>\n",
       "      <td>275.0</td>\n",
       "      <td>279.0</td>\n",
       "      <td>271.0</td>\n",
       "      <td>267.0</td>\n",
       "      <td>267.0</td>\n",
       "      <td>254.0</td>\n",
       "      <td>248.0</td>\n",
       "      <td>242.0</td>\n",
       "      <td>241.0</td>\n",
       "      <td>242.0</td>\n",
       "      <td>...</td>\n",
       "      <td>388.0</td>\n",
       "      <td>406.0</td>\n",
       "      <td>392.0</td>\n",
       "      <td>379.0</td>\n",
       "      <td>381.0</td>\n",
       "      <td>421.0</td>\n",
       "      <td>417.0</td>\n",
       "      <td>417.0</td>\n",
       "      <td>403.0</td>\n",
       "      <td>382.0</td>\n",
       "    </tr>\n",
       "    <tr>\n",
       "      <th>1981-02-28</th>\n",
       "      <td>348.0</td>\n",
       "      <td>330.0</td>\n",
       "      <td>347.0</td>\n",
       "      <td>341.0</td>\n",
       "      <td>314.0</td>\n",
       "      <td>290.0</td>\n",
       "      <td>291.0</td>\n",
       "      <td>288.0</td>\n",
       "      <td>301.0</td>\n",
       "      <td>278.0</td>\n",
       "      <td>...</td>\n",
       "      <td>279.0</td>\n",
       "      <td>292.0</td>\n",
       "      <td>307.0</td>\n",
       "      <td>296.0</td>\n",
       "      <td>297.0</td>\n",
       "      <td>302.0</td>\n",
       "      <td>299.0</td>\n",
       "      <td>298.0</td>\n",
       "      <td>299.0</td>\n",
       "      <td>302.0</td>\n",
       "    </tr>\n",
       "    <tr>\n",
       "      <th>1981-03-31</th>\n",
       "      <td>301.0</td>\n",
       "      <td>310.0</td>\n",
       "      <td>313.0</td>\n",
       "      <td>316.0</td>\n",
       "      <td>325.0</td>\n",
       "      <td>328.0</td>\n",
       "      <td>324.0</td>\n",
       "      <td>324.0</td>\n",
       "      <td>328.0</td>\n",
       "      <td>320.0</td>\n",
       "      <td>...</td>\n",
       "      <td>306.0</td>\n",
       "      <td>301.0</td>\n",
       "      <td>303.0</td>\n",
       "      <td>303.0</td>\n",
       "      <td>307.0</td>\n",
       "      <td>319.0</td>\n",
       "      <td>322.0</td>\n",
       "      <td>327.0</td>\n",
       "      <td>328.0</td>\n",
       "      <td>330.0</td>\n",
       "    </tr>\n",
       "    <tr>\n",
       "      <th>1981-04-30</th>\n",
       "      <td>193.0</td>\n",
       "      <td>174.0</td>\n",
       "      <td>199.0</td>\n",
       "      <td>198.0</td>\n",
       "      <td>224.0</td>\n",
       "      <td>232.0</td>\n",
       "      <td>226.0</td>\n",
       "      <td>229.0</td>\n",
       "      <td>204.0</td>\n",
       "      <td>222.0</td>\n",
       "      <td>...</td>\n",
       "      <td>96.0</td>\n",
       "      <td>110.0</td>\n",
       "      <td>90.0</td>\n",
       "      <td>90.0</td>\n",
       "      <td>90.0</td>\n",
       "      <td>93.0</td>\n",
       "      <td>98.0</td>\n",
       "      <td>98.0</td>\n",
       "      <td>117.0</td>\n",
       "      <td>138.0</td>\n",
       "    </tr>\n",
       "    <tr>\n",
       "      <th>1981-05-31</th>\n",
       "      <td>183.0</td>\n",
       "      <td>196.0</td>\n",
       "      <td>208.0</td>\n",
       "      <td>198.0</td>\n",
       "      <td>176.0</td>\n",
       "      <td>177.0</td>\n",
       "      <td>177.0</td>\n",
       "      <td>174.0</td>\n",
       "      <td>162.0</td>\n",
       "      <td>157.0</td>\n",
       "      <td>...</td>\n",
       "      <td>11.0</td>\n",
       "      <td>11.0</td>\n",
       "      <td>11.0</td>\n",
       "      <td>13.0</td>\n",
       "      <td>13.0</td>\n",
       "      <td>10.0</td>\n",
       "      <td>7.0</td>\n",
       "      <td>7.0</td>\n",
       "      <td>10.0</td>\n",
       "      <td>6.0</td>\n",
       "    </tr>\n",
       "    <tr>\n",
       "      <th>...</th>\n",
       "      <td>...</td>\n",
       "      <td>...</td>\n",
       "      <td>...</td>\n",
       "      <td>...</td>\n",
       "      <td>...</td>\n",
       "      <td>...</td>\n",
       "      <td>...</td>\n",
       "      <td>...</td>\n",
       "      <td>...</td>\n",
       "      <td>...</td>\n",
       "      <td>...</td>\n",
       "      <td>...</td>\n",
       "      <td>...</td>\n",
       "      <td>...</td>\n",
       "      <td>...</td>\n",
       "      <td>...</td>\n",
       "      <td>...</td>\n",
       "      <td>...</td>\n",
       "      <td>...</td>\n",
       "      <td>...</td>\n",
       "      <td>...</td>\n",
       "    </tr>\n",
       "    <tr>\n",
       "      <th>2019-08-31</th>\n",
       "      <td>35.0</td>\n",
       "      <td>38.0</td>\n",
       "      <td>34.0</td>\n",
       "      <td>32.0</td>\n",
       "      <td>32.0</td>\n",
       "      <td>31.0</td>\n",
       "      <td>30.0</td>\n",
       "      <td>32.0</td>\n",
       "      <td>30.0</td>\n",
       "      <td>31.0</td>\n",
       "      <td>...</td>\n",
       "      <td>32.0</td>\n",
       "      <td>30.0</td>\n",
       "      <td>29.0</td>\n",
       "      <td>30.0</td>\n",
       "      <td>29.0</td>\n",
       "      <td>28.0</td>\n",
       "      <td>27.0</td>\n",
       "      <td>27.0</td>\n",
       "      <td>29.0</td>\n",
       "      <td>32.0</td>\n",
       "    </tr>\n",
       "    <tr>\n",
       "      <th>2019-09-30</th>\n",
       "      <td>140.0</td>\n",
       "      <td>135.0</td>\n",
       "      <td>140.0</td>\n",
       "      <td>131.0</td>\n",
       "      <td>143.0</td>\n",
       "      <td>142.0</td>\n",
       "      <td>123.0</td>\n",
       "      <td>129.0</td>\n",
       "      <td>128.0</td>\n",
       "      <td>117.0</td>\n",
       "      <td>...</td>\n",
       "      <td>58.0</td>\n",
       "      <td>56.0</td>\n",
       "      <td>55.0</td>\n",
       "      <td>56.0</td>\n",
       "      <td>54.0</td>\n",
       "      <td>55.0</td>\n",
       "      <td>58.0</td>\n",
       "      <td>58.0</td>\n",
       "      <td>60.0</td>\n",
       "      <td>63.0</td>\n",
       "    </tr>\n",
       "    <tr>\n",
       "      <th>2019-10-31</th>\n",
       "      <td>225.0</td>\n",
       "      <td>217.0</td>\n",
       "      <td>220.0</td>\n",
       "      <td>230.0</td>\n",
       "      <td>231.0</td>\n",
       "      <td>233.0</td>\n",
       "      <td>228.0</td>\n",
       "      <td>214.0</td>\n",
       "      <td>216.0</td>\n",
       "      <td>218.0</td>\n",
       "      <td>...</td>\n",
       "      <td>163.0</td>\n",
       "      <td>164.0</td>\n",
       "      <td>162.0</td>\n",
       "      <td>165.0</td>\n",
       "      <td>166.0</td>\n",
       "      <td>163.0</td>\n",
       "      <td>168.0</td>\n",
       "      <td>170.0</td>\n",
       "      <td>176.0</td>\n",
       "      <td>174.0</td>\n",
       "    </tr>\n",
       "    <tr>\n",
       "      <th>2019-11-30</th>\n",
       "      <td>220.0</td>\n",
       "      <td>210.0</td>\n",
       "      <td>215.0</td>\n",
       "      <td>213.0</td>\n",
       "      <td>224.0</td>\n",
       "      <td>223.0</td>\n",
       "      <td>220.0</td>\n",
       "      <td>214.0</td>\n",
       "      <td>219.0</td>\n",
       "      <td>228.0</td>\n",
       "      <td>...</td>\n",
       "      <td>123.0</td>\n",
       "      <td>118.0</td>\n",
       "      <td>115.0</td>\n",
       "      <td>125.0</td>\n",
       "      <td>129.0</td>\n",
       "      <td>144.0</td>\n",
       "      <td>147.0</td>\n",
       "      <td>145.0</td>\n",
       "      <td>153.0</td>\n",
       "      <td>158.0</td>\n",
       "    </tr>\n",
       "    <tr>\n",
       "      <th>2019-12-31</th>\n",
       "      <td>266.0</td>\n",
       "      <td>275.0</td>\n",
       "      <td>276.0</td>\n",
       "      <td>275.0</td>\n",
       "      <td>269.0</td>\n",
       "      <td>273.0</td>\n",
       "      <td>274.0</td>\n",
       "      <td>271.0</td>\n",
       "      <td>271.0</td>\n",
       "      <td>274.0</td>\n",
       "      <td>...</td>\n",
       "      <td>177.0</td>\n",
       "      <td>184.0</td>\n",
       "      <td>186.0</td>\n",
       "      <td>192.0</td>\n",
       "      <td>196.0</td>\n",
       "      <td>191.0</td>\n",
       "      <td>201.0</td>\n",
       "      <td>202.0</td>\n",
       "      <td>211.0</td>\n",
       "      <td>233.0</td>\n",
       "    </tr>\n",
       "  </tbody>\n",
       "</table>\n",
       "<p>468 rows × 16330 columns</p>\n",
       "</div>"
      ],
      "text/plain": [
       "            0      1      2      3      4      5      6      7      8      \\\n",
       "1981-01-31  275.0  279.0  271.0  267.0  267.0  254.0  248.0  242.0  241.0   \n",
       "1981-02-28  348.0  330.0  347.0  341.0  314.0  290.0  291.0  288.0  301.0   \n",
       "1981-03-31  301.0  310.0  313.0  316.0  325.0  328.0  324.0  324.0  328.0   \n",
       "1981-04-30  193.0  174.0  199.0  198.0  224.0  232.0  226.0  229.0  204.0   \n",
       "1981-05-31  183.0  196.0  208.0  198.0  176.0  177.0  177.0  174.0  162.0   \n",
       "...           ...    ...    ...    ...    ...    ...    ...    ...    ...   \n",
       "2019-08-31   35.0   38.0   34.0   32.0   32.0   31.0   30.0   32.0   30.0   \n",
       "2019-09-30  140.0  135.0  140.0  131.0  143.0  142.0  123.0  129.0  128.0   \n",
       "2019-10-31  225.0  217.0  220.0  230.0  231.0  233.0  228.0  214.0  216.0   \n",
       "2019-11-30  220.0  210.0  215.0  213.0  224.0  223.0  220.0  214.0  219.0   \n",
       "2019-12-31  266.0  275.0  276.0  275.0  269.0  273.0  274.0  271.0  271.0   \n",
       "\n",
       "            9      ...  16320  16321  16322  16323  16324  16325  16326  \\\n",
       "1981-01-31  242.0  ...  388.0  406.0  392.0  379.0  381.0  421.0  417.0   \n",
       "1981-02-28  278.0  ...  279.0  292.0  307.0  296.0  297.0  302.0  299.0   \n",
       "1981-03-31  320.0  ...  306.0  301.0  303.0  303.0  307.0  319.0  322.0   \n",
       "1981-04-30  222.0  ...   96.0  110.0   90.0   90.0   90.0   93.0   98.0   \n",
       "1981-05-31  157.0  ...   11.0   11.0   11.0   13.0   13.0   10.0    7.0   \n",
       "...           ...  ...    ...    ...    ...    ...    ...    ...    ...   \n",
       "2019-08-31   31.0  ...   32.0   30.0   29.0   30.0   29.0   28.0   27.0   \n",
       "2019-09-30  117.0  ...   58.0   56.0   55.0   56.0   54.0   55.0   58.0   \n",
       "2019-10-31  218.0  ...  163.0  164.0  162.0  165.0  166.0  163.0  168.0   \n",
       "2019-11-30  228.0  ...  123.0  118.0  115.0  125.0  129.0  144.0  147.0   \n",
       "2019-12-31  274.0  ...  177.0  184.0  186.0  192.0  196.0  191.0  201.0   \n",
       "\n",
       "            16327  16328  16329  \n",
       "1981-01-31  417.0  403.0  382.0  \n",
       "1981-02-28  298.0  299.0  302.0  \n",
       "1981-03-31  327.0  328.0  330.0  \n",
       "1981-04-30   98.0  117.0  138.0  \n",
       "1981-05-31    7.0   10.0    6.0  \n",
       "...           ...    ...    ...  \n",
       "2019-08-31   27.0   29.0   32.0  \n",
       "2019-09-30   58.0   60.0   63.0  \n",
       "2019-10-31  170.0  176.0  174.0  \n",
       "2019-11-30  145.0  153.0  158.0  \n",
       "2019-12-31  202.0  211.0  233.0  \n",
       "\n",
       "[468 rows x 16330 columns]"
      ]
     },
     "execution_count": 44,
     "metadata": {},
     "output_type": "execute_result"
    }
   ],
   "source": [
    "precmongridsdf = pd.DataFrame(index = pd.date_range(start='1-1981', end='1-2020', freq='M') , data = precmongrids)\n",
    "precmongridsdf"
   ]
  },
  {
   "cell_type": "markdown",
   "id": "f9ae6026",
   "metadata": {},
   "source": [
    "Now we export our dataset to a .CSV to be easily opened afterwards:"
   ]
  },
  {
   "cell_type": "code",
   "execution_count": 15,
   "id": "d606f998",
   "metadata": {},
   "outputs": [],
   "source": [
    "np.savetxt(r'C:\\Users\\User\\OneDrive\\IST\\RESEARCH\\5_SPI\\rondonia\\precmongrids.csv', precmongrids, delimiter=',')"
   ]
  },
  {
   "cell_type": "markdown",
   "id": "eadcb2a3",
   "metadata": {},
   "source": [
    "If we want to save our dataframe in a .XLSX file:"
   ]
  },
  {
   "cell_type": "code",
   "execution_count": 16,
   "id": "c6fae88d",
   "metadata": {},
   "outputs": [],
   "source": [
    "precmongridsdf.to_excel(r'C:\\Users\\User\\OneDrive\\IST\\RESEARCH\\5_SPI\\rondonia\\precmongrids.xlsx')"
   ]
  },
  {
   "cell_type": "markdown",
   "id": "36b950cf",
   "metadata": {},
   "source": [
    "#### (b) SPI computation for each grid:"
   ]
  },
  {
   "cell_type": "markdown",
   "id": "786ebb4a",
   "metadata": {},
   "source": [
    "First we read the dataset of precipitation that was already organized in part (a):"
   ]
  },
  {
   "cell_type": "code",
   "execution_count": 47,
   "id": "e1d13e40",
   "metadata": {},
   "outputs": [
    {
     "data": {
      "text/html": [
       "<div>\n",
       "<style scoped>\n",
       "    .dataframe tbody tr th:only-of-type {\n",
       "        vertical-align: middle;\n",
       "    }\n",
       "\n",
       "    .dataframe tbody tr th {\n",
       "        vertical-align: top;\n",
       "    }\n",
       "\n",
       "    .dataframe thead th {\n",
       "        text-align: right;\n",
       "    }\n",
       "</style>\n",
       "<table border=\"1\" class=\"dataframe\">\n",
       "  <thead>\n",
       "    <tr style=\"text-align: right;\">\n",
       "      <th></th>\n",
       "      <th>date</th>\n",
       "      <th>0</th>\n",
       "      <th>1</th>\n",
       "      <th>2</th>\n",
       "      <th>3</th>\n",
       "      <th>4</th>\n",
       "      <th>5</th>\n",
       "      <th>6</th>\n",
       "      <th>7</th>\n",
       "      <th>8</th>\n",
       "      <th>...</th>\n",
       "      <th>16320</th>\n",
       "      <th>16321</th>\n",
       "      <th>16322</th>\n",
       "      <th>16323</th>\n",
       "      <th>16324</th>\n",
       "      <th>16325</th>\n",
       "      <th>16326</th>\n",
       "      <th>16327</th>\n",
       "      <th>16328</th>\n",
       "      <th>16329</th>\n",
       "    </tr>\n",
       "  </thead>\n",
       "  <tbody>\n",
       "    <tr>\n",
       "      <th>0</th>\n",
       "      <td>31/01/1981</td>\n",
       "      <td>275.0</td>\n",
       "      <td>279.0</td>\n",
       "      <td>271.0</td>\n",
       "      <td>267.0</td>\n",
       "      <td>267.0</td>\n",
       "      <td>254.0</td>\n",
       "      <td>248.0</td>\n",
       "      <td>242.0</td>\n",
       "      <td>241.0</td>\n",
       "      <td>...</td>\n",
       "      <td>388.0</td>\n",
       "      <td>406.0</td>\n",
       "      <td>392.0</td>\n",
       "      <td>379.0</td>\n",
       "      <td>381.0</td>\n",
       "      <td>421.0</td>\n",
       "      <td>417.0</td>\n",
       "      <td>417.0</td>\n",
       "      <td>403.0</td>\n",
       "      <td>382.0</td>\n",
       "    </tr>\n",
       "    <tr>\n",
       "      <th>1</th>\n",
       "      <td>28/02/1981</td>\n",
       "      <td>348.0</td>\n",
       "      <td>330.0</td>\n",
       "      <td>347.0</td>\n",
       "      <td>341.0</td>\n",
       "      <td>314.0</td>\n",
       "      <td>290.0</td>\n",
       "      <td>291.0</td>\n",
       "      <td>288.0</td>\n",
       "      <td>301.0</td>\n",
       "      <td>...</td>\n",
       "      <td>279.0</td>\n",
       "      <td>292.0</td>\n",
       "      <td>307.0</td>\n",
       "      <td>296.0</td>\n",
       "      <td>297.0</td>\n",
       "      <td>302.0</td>\n",
       "      <td>299.0</td>\n",
       "      <td>298.0</td>\n",
       "      <td>299.0</td>\n",
       "      <td>302.0</td>\n",
       "    </tr>\n",
       "    <tr>\n",
       "      <th>2</th>\n",
       "      <td>31/03/1981</td>\n",
       "      <td>301.0</td>\n",
       "      <td>310.0</td>\n",
       "      <td>313.0</td>\n",
       "      <td>316.0</td>\n",
       "      <td>325.0</td>\n",
       "      <td>328.0</td>\n",
       "      <td>324.0</td>\n",
       "      <td>324.0</td>\n",
       "      <td>328.0</td>\n",
       "      <td>...</td>\n",
       "      <td>306.0</td>\n",
       "      <td>301.0</td>\n",
       "      <td>303.0</td>\n",
       "      <td>303.0</td>\n",
       "      <td>307.0</td>\n",
       "      <td>319.0</td>\n",
       "      <td>322.0</td>\n",
       "      <td>327.0</td>\n",
       "      <td>328.0</td>\n",
       "      <td>330.0</td>\n",
       "    </tr>\n",
       "    <tr>\n",
       "      <th>3</th>\n",
       "      <td>30/04/1981</td>\n",
       "      <td>193.0</td>\n",
       "      <td>174.0</td>\n",
       "      <td>199.0</td>\n",
       "      <td>198.0</td>\n",
       "      <td>224.0</td>\n",
       "      <td>232.0</td>\n",
       "      <td>226.0</td>\n",
       "      <td>229.0</td>\n",
       "      <td>204.0</td>\n",
       "      <td>...</td>\n",
       "      <td>96.0</td>\n",
       "      <td>110.0</td>\n",
       "      <td>90.0</td>\n",
       "      <td>90.0</td>\n",
       "      <td>90.0</td>\n",
       "      <td>93.0</td>\n",
       "      <td>98.0</td>\n",
       "      <td>98.0</td>\n",
       "      <td>117.0</td>\n",
       "      <td>138.0</td>\n",
       "    </tr>\n",
       "    <tr>\n",
       "      <th>4</th>\n",
       "      <td>31/05/1981</td>\n",
       "      <td>183.0</td>\n",
       "      <td>196.0</td>\n",
       "      <td>208.0</td>\n",
       "      <td>198.0</td>\n",
       "      <td>176.0</td>\n",
       "      <td>177.0</td>\n",
       "      <td>177.0</td>\n",
       "      <td>174.0</td>\n",
       "      <td>162.0</td>\n",
       "      <td>...</td>\n",
       "      <td>11.0</td>\n",
       "      <td>11.0</td>\n",
       "      <td>11.0</td>\n",
       "      <td>13.0</td>\n",
       "      <td>13.0</td>\n",
       "      <td>10.0</td>\n",
       "      <td>7.0</td>\n",
       "      <td>7.0</td>\n",
       "      <td>10.0</td>\n",
       "      <td>6.0</td>\n",
       "    </tr>\n",
       "    <tr>\n",
       "      <th>...</th>\n",
       "      <td>...</td>\n",
       "      <td>...</td>\n",
       "      <td>...</td>\n",
       "      <td>...</td>\n",
       "      <td>...</td>\n",
       "      <td>...</td>\n",
       "      <td>...</td>\n",
       "      <td>...</td>\n",
       "      <td>...</td>\n",
       "      <td>...</td>\n",
       "      <td>...</td>\n",
       "      <td>...</td>\n",
       "      <td>...</td>\n",
       "      <td>...</td>\n",
       "      <td>...</td>\n",
       "      <td>...</td>\n",
       "      <td>...</td>\n",
       "      <td>...</td>\n",
       "      <td>...</td>\n",
       "      <td>...</td>\n",
       "      <td>...</td>\n",
       "    </tr>\n",
       "    <tr>\n",
       "      <th>463</th>\n",
       "      <td>31/08/2019</td>\n",
       "      <td>35.0</td>\n",
       "      <td>38.0</td>\n",
       "      <td>34.0</td>\n",
       "      <td>32.0</td>\n",
       "      <td>32.0</td>\n",
       "      <td>31.0</td>\n",
       "      <td>30.0</td>\n",
       "      <td>32.0</td>\n",
       "      <td>30.0</td>\n",
       "      <td>...</td>\n",
       "      <td>32.0</td>\n",
       "      <td>30.0</td>\n",
       "      <td>29.0</td>\n",
       "      <td>30.0</td>\n",
       "      <td>29.0</td>\n",
       "      <td>28.0</td>\n",
       "      <td>27.0</td>\n",
       "      <td>27.0</td>\n",
       "      <td>29.0</td>\n",
       "      <td>32.0</td>\n",
       "    </tr>\n",
       "    <tr>\n",
       "      <th>464</th>\n",
       "      <td>30/09/2019</td>\n",
       "      <td>140.0</td>\n",
       "      <td>135.0</td>\n",
       "      <td>140.0</td>\n",
       "      <td>131.0</td>\n",
       "      <td>143.0</td>\n",
       "      <td>142.0</td>\n",
       "      <td>123.0</td>\n",
       "      <td>129.0</td>\n",
       "      <td>128.0</td>\n",
       "      <td>...</td>\n",
       "      <td>58.0</td>\n",
       "      <td>56.0</td>\n",
       "      <td>55.0</td>\n",
       "      <td>56.0</td>\n",
       "      <td>54.0</td>\n",
       "      <td>55.0</td>\n",
       "      <td>58.0</td>\n",
       "      <td>58.0</td>\n",
       "      <td>60.0</td>\n",
       "      <td>63.0</td>\n",
       "    </tr>\n",
       "    <tr>\n",
       "      <th>465</th>\n",
       "      <td>31/10/2019</td>\n",
       "      <td>225.0</td>\n",
       "      <td>217.0</td>\n",
       "      <td>220.0</td>\n",
       "      <td>230.0</td>\n",
       "      <td>231.0</td>\n",
       "      <td>233.0</td>\n",
       "      <td>228.0</td>\n",
       "      <td>214.0</td>\n",
       "      <td>216.0</td>\n",
       "      <td>...</td>\n",
       "      <td>163.0</td>\n",
       "      <td>164.0</td>\n",
       "      <td>162.0</td>\n",
       "      <td>165.0</td>\n",
       "      <td>166.0</td>\n",
       "      <td>163.0</td>\n",
       "      <td>168.0</td>\n",
       "      <td>170.0</td>\n",
       "      <td>176.0</td>\n",
       "      <td>174.0</td>\n",
       "    </tr>\n",
       "    <tr>\n",
       "      <th>466</th>\n",
       "      <td>30/11/2019</td>\n",
       "      <td>220.0</td>\n",
       "      <td>210.0</td>\n",
       "      <td>215.0</td>\n",
       "      <td>213.0</td>\n",
       "      <td>224.0</td>\n",
       "      <td>223.0</td>\n",
       "      <td>220.0</td>\n",
       "      <td>214.0</td>\n",
       "      <td>219.0</td>\n",
       "      <td>...</td>\n",
       "      <td>123.0</td>\n",
       "      <td>118.0</td>\n",
       "      <td>115.0</td>\n",
       "      <td>125.0</td>\n",
       "      <td>129.0</td>\n",
       "      <td>144.0</td>\n",
       "      <td>147.0</td>\n",
       "      <td>145.0</td>\n",
       "      <td>153.0</td>\n",
       "      <td>158.0</td>\n",
       "    </tr>\n",
       "    <tr>\n",
       "      <th>467</th>\n",
       "      <td>31/12/2019</td>\n",
       "      <td>266.0</td>\n",
       "      <td>275.0</td>\n",
       "      <td>276.0</td>\n",
       "      <td>275.0</td>\n",
       "      <td>269.0</td>\n",
       "      <td>273.0</td>\n",
       "      <td>274.0</td>\n",
       "      <td>271.0</td>\n",
       "      <td>271.0</td>\n",
       "      <td>...</td>\n",
       "      <td>177.0</td>\n",
       "      <td>184.0</td>\n",
       "      <td>186.0</td>\n",
       "      <td>192.0</td>\n",
       "      <td>196.0</td>\n",
       "      <td>191.0</td>\n",
       "      <td>201.0</td>\n",
       "      <td>202.0</td>\n",
       "      <td>211.0</td>\n",
       "      <td>233.0</td>\n",
       "    </tr>\n",
       "  </tbody>\n",
       "</table>\n",
       "<p>468 rows × 16331 columns</p>\n",
       "</div>"
      ],
      "text/plain": [
       "           date      0      1      2      3      4      5      6      7  \\\n",
       "0    31/01/1981  275.0  279.0  271.0  267.0  267.0  254.0  248.0  242.0   \n",
       "1    28/02/1981  348.0  330.0  347.0  341.0  314.0  290.0  291.0  288.0   \n",
       "2    31/03/1981  301.0  310.0  313.0  316.0  325.0  328.0  324.0  324.0   \n",
       "3    30/04/1981  193.0  174.0  199.0  198.0  224.0  232.0  226.0  229.0   \n",
       "4    31/05/1981  183.0  196.0  208.0  198.0  176.0  177.0  177.0  174.0   \n",
       "..          ...    ...    ...    ...    ...    ...    ...    ...    ...   \n",
       "463  31/08/2019   35.0   38.0   34.0   32.0   32.0   31.0   30.0   32.0   \n",
       "464  30/09/2019  140.0  135.0  140.0  131.0  143.0  142.0  123.0  129.0   \n",
       "465  31/10/2019  225.0  217.0  220.0  230.0  231.0  233.0  228.0  214.0   \n",
       "466  30/11/2019  220.0  210.0  215.0  213.0  224.0  223.0  220.0  214.0   \n",
       "467  31/12/2019  266.0  275.0  276.0  275.0  269.0  273.0  274.0  271.0   \n",
       "\n",
       "         8  ...  16320  16321  16322  16323  16324  16325  16326  16327  \\\n",
       "0    241.0  ...  388.0  406.0  392.0  379.0  381.0  421.0  417.0  417.0   \n",
       "1    301.0  ...  279.0  292.0  307.0  296.0  297.0  302.0  299.0  298.0   \n",
       "2    328.0  ...  306.0  301.0  303.0  303.0  307.0  319.0  322.0  327.0   \n",
       "3    204.0  ...   96.0  110.0   90.0   90.0   90.0   93.0   98.0   98.0   \n",
       "4    162.0  ...   11.0   11.0   11.0   13.0   13.0   10.0    7.0    7.0   \n",
       "..     ...  ...    ...    ...    ...    ...    ...    ...    ...    ...   \n",
       "463   30.0  ...   32.0   30.0   29.0   30.0   29.0   28.0   27.0   27.0   \n",
       "464  128.0  ...   58.0   56.0   55.0   56.0   54.0   55.0   58.0   58.0   \n",
       "465  216.0  ...  163.0  164.0  162.0  165.0  166.0  163.0  168.0  170.0   \n",
       "466  219.0  ...  123.0  118.0  115.0  125.0  129.0  144.0  147.0  145.0   \n",
       "467  271.0  ...  177.0  184.0  186.0  192.0  196.0  191.0  201.0  202.0   \n",
       "\n",
       "     16328  16329  \n",
       "0    403.0  382.0  \n",
       "1    299.0  302.0  \n",
       "2    328.0  330.0  \n",
       "3    117.0  138.0  \n",
       "4     10.0    6.0  \n",
       "..     ...    ...  \n",
       "463   29.0   32.0  \n",
       "464   60.0   63.0  \n",
       "465  176.0  174.0  \n",
       "466  153.0  158.0  \n",
       "467  211.0  233.0  \n",
       "\n",
       "[468 rows x 16331 columns]"
      ]
     },
     "execution_count": 47,
     "metadata": {},
     "output_type": "execute_result"
    }
   ],
   "source": [
    "data = pd.read_csv(r'C:\\Users\\User\\OneDrive\\IST\\RESEARCH\\5_SPI\\rondonia\\precmongrids.csv')\n",
    "data"
   ]
  },
  {
   "cell_type": "markdown",
   "id": "5af8f4f6",
   "metadata": {},
   "source": [
    "At this step we can check the number pof grids in our dataset:"
   ]
  },
  {
   "cell_type": "code",
   "execution_count": 48,
   "id": "426ace0d",
   "metadata": {},
   "outputs": [
    {
     "data": {
      "text/plain": [
       "16330"
      ]
     },
     "execution_count": 48,
     "metadata": {},
     "output_type": "execute_result"
    }
   ],
   "source": [
    "numgrids = data.shape[1] - 1\n",
    "numgrids"
   ]
  },
  {
   "cell_type": "markdown",
   "id": "545f8dab",
   "metadata": {},
   "source": [
    "Before computing the SPIs, we create empty arrays for stack the results of SPI computation for each loop:"
   ]
  },
  {
   "cell_type": "code",
   "execution_count": 52,
   "id": "999d0447",
   "metadata": {},
   "outputs": [],
   "source": [
    "spi1 = np.empty([len(filenames), ])\n",
    "spi3 = np.empty([len(filenames), ])\n",
    "spi6 = np.empty([len(filenames), ])\n",
    "spi9 = np.empty([len(filenames), ])\n",
    "spi12 = np.empty([len(filenames), ])\n",
    "spi24 = np.empty([len(filenames), ])\n",
    "spi48 = np.empty([len(filenames), ])"
   ]
  },
  {
   "cell_type": "markdown",
   "id": "7f4adab7",
   "metadata": {},
   "source": [
    "First we set the SPI function calling it as spi_rain:"
   ]
  },
  {
   "cell_type": "code",
   "execution_count": 45,
   "id": "c371dc64",
   "metadata": {},
   "outputs": [],
   "source": [
    "spi_rain = spi.SPI()"
   ]
  },
  {
   "cell_type": "markdown",
   "id": "d4d2425b",
   "metadata": {},
   "source": [
    "Now we will do a for for each grid in our dataset, and therefore compute the required SPis using the function \"spi_rain\":"
   ]
  },
  {
   "cell_type": "code",
   "execution_count": 53,
   "id": "bea7a2b7",
   "metadata": {},
   "outputs": [
    {
     "name": "stderr",
     "output_type": "stream",
     "text": [
      "100%|██████████████████████████████████████████████████████████████████████████| 16330/16330 [2:03:48<00:00,  2.20it/s]"
     ]
    },
    {
     "name": "stdout",
     "output_type": "stream",
     "text": [
      "7428.209497928619\n"
     ]
    },
    {
     "name": "stderr",
     "output_type": "stream",
     "text": [
      "\n"
     ]
    }
   ],
   "source": [
    "start = time.time()\n",
    "    \n",
    "for grid in tqdm.tqdm(range(numgrids)):\n",
    "    \n",
    "    data2 = data.loc[:, [\"date\", str(grid)]]\n",
    "\n",
    "    # SPI-1\n",
    "    aux = spi_rain.calculate(data2, 'date', str(grid), freq=\"M\", scale=1, fit_type=\"lmom\", dist_type=\"gam\")    \n",
    "    spi1 = np.vstack((spi1, aux.iloc[:,2].values))\n",
    "    \n",
    "    # SPI-3\n",
    "    aux = spi_rain.calculate(data2, 'date', str(grid), freq=\"M\", scale=3, fit_type=\"lmom\", dist_type=\"gam\")    \n",
    "    spi3 = np.vstack((spi3, aux.iloc[:,2].values))\n",
    "    \n",
    "    # SPI-6\n",
    "    aux = spi_rain.calculate(data2, 'date', str(grid), freq=\"M\", scale=6, fit_type=\"lmom\", dist_type=\"gam\")    \n",
    "    spi6 = np.vstack((spi6, aux.iloc[:,2].values))  \n",
    "    \n",
    "    # SPI-9\n",
    "    aux = spi_rain.calculate(data2, 'date', str(grid), freq=\"M\", scale=9, fit_type=\"lmom\", dist_type=\"gam\")    \n",
    "    spi9 = np.vstack((spi9, aux.iloc[:,2].values))\n",
    "    \n",
    "    # SPI-12\n",
    "    aux = spi_rain.calculate(data2, 'date', str(grid), freq=\"M\", scale=12, fit_type=\"lmom\", dist_type=\"gam\")    \n",
    "    spi12 = np.vstack((spi12, aux.iloc[:,2].values))\n",
    "    \n",
    "    # SPI-24\n",
    "    aux = spi_rain.calculate(data2, 'date', str(grid), freq=\"M\", scale=24, fit_type=\"lmom\", dist_type=\"gam\")    \n",
    "    spi24 = np.vstack((spi24, aux.iloc[:,2].values))\n",
    "\n",
    "    # SPI-48\n",
    "    aux = spi_rain.calculate(data2, 'date', str(grid), freq=\"M\", scale=48, fit_type=\"lmom\", dist_type=\"gam\")    \n",
    "    spi48 = np.vstack((spi48, aux.iloc[:,2].values))    \n",
    "    \n",
    "end = time.time()\n",
    "print(end - start)"
   ]
  },
  {
   "cell_type": "markdown",
   "id": "f1ce1c87",
   "metadata": {},
   "source": [
    "Now we delete the first row and traspose the results:"
   ]
  },
  {
   "cell_type": "code",
   "execution_count": 54,
   "id": "58a834b8",
   "metadata": {},
   "outputs": [],
   "source": [
    "spi1 = np.delete(spi1, [0], axis = 0).T\n",
    "spi3 = np.delete(spi3, [0], axis = 0).T\n",
    "spi6 = np.delete(spi6, [0], axis = 0).T\n",
    "spi9 = np.delete(spi9, [0], axis = 0).T\n",
    "spi12 = np.delete(spi12, [0], axis = 0).T\n",
    "spi24 = np.delete(spi24, [0], axis = 0).T\n",
    "spi48 = np.delete(spi48, [0], axis = 0).T"
   ]
  },
  {
   "cell_type": "code",
   "execution_count": 62,
   "id": "34360b34",
   "metadata": {},
   "outputs": [
    {
     "data": {
      "text/plain": [
       "array([[-0.63202762, -0.57175492, -0.60991597, ...,  1.37649818,\n",
       "         1.27751699,  1.0897184 ],\n",
       "       [ 0.52873685,  0.26382294,  0.44129962, ...,  0.19205436,\n",
       "         0.26004079,  0.28865001],\n",
       "       [-0.01441963,  0.10325619,  0.09588086, ...,  0.52841591,\n",
       "         0.534137  ,  0.51598494],\n",
       "       ...,\n",
       "       [ 1.41390261,  1.27712162,  1.40425307, ...,  0.27414199,\n",
       "         0.26501261,  0.1717614 ],\n",
       "       [-0.02093242, -0.2164415 , -0.07527487, ..., -1.4554596 ,\n",
       "        -1.20925809, -1.28184177],\n",
       "       [-0.51609831, -0.37143233, -0.40075027, ..., -1.08493912,\n",
       "        -1.04451341, -0.96729763]])"
      ]
     },
     "execution_count": 62,
     "metadata": {},
     "output_type": "execute_result"
    }
   ],
   "source": [
    "spi1"
   ]
  },
  {
   "cell_type": "markdown",
   "id": "354a5bc6",
   "metadata": {},
   "source": [
    "Now we save the SPI results:"
   ]
  },
  {
   "cell_type": "code",
   "execution_count": 56,
   "id": "dcb3c25c",
   "metadata": {},
   "outputs": [],
   "source": [
    "np.savetxt(r'C:\\Users\\User\\OneDrive\\IST\\RESEARCH\\5_SPI\\rondonia\\spi1.csv', spi1, delimiter=',')"
   ]
  },
  {
   "cell_type": "code",
   "execution_count": 57,
   "id": "933afdb5",
   "metadata": {},
   "outputs": [],
   "source": [
    "np.savetxt(r'C:\\Users\\User\\OneDrive\\IST\\RESEARCH\\5_SPI\\rondonia\\spi3.csv', spi3, delimiter=',')"
   ]
  },
  {
   "cell_type": "code",
   "execution_count": 58,
   "id": "0d10aedf",
   "metadata": {},
   "outputs": [],
   "source": [
    "np.savetxt(r'C:\\Users\\User\\OneDrive\\IST\\RESEARCH\\5_SPI\\rondonia\\spi6.csv', spi6, delimiter=',')"
   ]
  },
  {
   "cell_type": "code",
   "execution_count": 59,
   "id": "d4e2f359",
   "metadata": {},
   "outputs": [],
   "source": [
    "np.savetxt(r'C:\\Users\\User\\OneDrive\\IST\\RESEARCH\\5_SPI\\rondonia\\spi9.csv', spi9, delimiter=',')"
   ]
  },
  {
   "cell_type": "code",
   "execution_count": 60,
   "id": "280d2d99",
   "metadata": {},
   "outputs": [],
   "source": [
    "np.savetxt(r'C:\\Users\\User\\OneDrive\\IST\\RESEARCH\\5_SPI\\rondonia\\spi12.csv', spi12, delimiter=',')"
   ]
  },
  {
   "cell_type": "code",
   "execution_count": 61,
   "id": "1c7315f3",
   "metadata": {},
   "outputs": [],
   "source": [
    "np.savetxt(r'C:\\Users\\User\\OneDrive\\IST\\RESEARCH\\5_SPI\\rondonia\\spi24.csv', spi24, delimiter=',')"
   ]
  },
  {
   "cell_type": "code",
   "execution_count": null,
   "id": "3ea3147f",
   "metadata": {},
   "outputs": [],
   "source": [
    "np.savetxt(r'C:\\Users\\User\\OneDrive\\IST\\RESEARCH\\5_SPI\\rondonia\\spi48.csv', spi48, delimiter=',')"
   ]
  }
 ],
 "metadata": {
  "kernelspec": {
   "display_name": "Python 3 (ipykernel)",
   "language": "python",
   "name": "python3"
  },
  "language_info": {
   "codemirror_mode": {
    "name": "ipython",
    "version": 3
   },
   "file_extension": ".py",
   "mimetype": "text/x-python",
   "name": "python",
   "nbconvert_exporter": "python",
   "pygments_lexer": "ipython3",
   "version": "3.10.2"
  }
 },
 "nbformat": 4,
 "nbformat_minor": 5
}
