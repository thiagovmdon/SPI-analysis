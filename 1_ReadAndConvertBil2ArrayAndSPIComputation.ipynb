{
 "cells": [
  {
   "cell_type": "markdown",
   "id": "16929c1e",
   "metadata": {},
   "source": [
    "### Code used for reading and converting raster files to array\n",
    "\n",
    "\n",
    "#### This code provide an automatic read of Bilraster files into array, and then organize the data in a time series to be used for further analysis.\n",
    "\n",
    "#### The code will read a total of Z .map files, and will reshape each file from a (X, Y) to a (1, X * Y), and will assing each file matrix to a different line. Therefore we will have a time-series matrix of (Z, X * Y) shape. \n",
    "\n",
    "Developed by: Thiago Victor Medeiros do Nascimento"
   ]
  },
  {
   "cell_type": "code",
   "execution_count": 1,
   "id": "8e2add31",
   "metadata": {},
   "outputs": [],
   "source": [
    "from pcraster import *\n",
    "import numpy as np\n",
    "from osgeo import gdal, gdalconst\n",
    "from osgeo import gdal_array\n",
    "from osgeo import osr\n",
    "import matplotlib.pylab as plt\n",
    "import subprocess\n",
    "import glob,os\n",
    "import time\n",
    "import rasterio\n",
    "import tqdm"
   ]
  },
  {
   "cell_type": "code",
   "execution_count": 2,
   "id": "4292017a",
   "metadata": {},
   "outputs": [],
   "source": [
    "import pandas as pd"
   ]
  },
  {
   "cell_type": "markdown",
   "id": "1a2a4e39",
   "metadata": {},
   "source": [
    "Firstly we pre-read our dataset:"
   ]
  },
  {
   "cell_type": "markdown",
   "id": "9fcfe3f0",
   "metadata": {},
   "source": [
    "#### (a) Data lecture:"
   ]
  },
  {
   "cell_type": "code",
   "execution_count": 3,
   "id": "f2a4ee8a",
   "metadata": {},
   "outputs": [
    {
     "name": "stdout",
     "output_type": "stream",
     "text": [
      "The total number of files is: 468\n"
     ]
    }
   ],
   "source": [
    "path =r'C:\\Users\\User\\OneDrive\\IST\\RESEARCH\\5_SPI\\rondonia\\dnCHIRPS'\n",
    "filenames = glob.glob(path + \"/*.bil\")\n",
    "print(\"The total number of files is:\", len(filenames))"
   ]
  },
  {
   "cell_type": "markdown",
   "id": "0951f7f1",
   "metadata": {},
   "source": [
    "Firstly we take a look on the dataset:"
   ]
  },
  {
   "cell_type": "code",
   "execution_count": 4,
   "id": "c3ae6a4d",
   "metadata": {},
   "outputs": [
    {
     "name": "stdout",
     "output_type": "stream",
     "text": [
      "The total number of grids in the dataset is: 16330\n"
     ]
    }
   ],
   "source": [
    "mapfile = filenames[0]\n",
    "\n",
    "RasterLayer = rasterio.open(mapfile)\n",
    "\n",
    "ncols = RasterLayer.width\n",
    "nrows = RasterLayer.height\n",
    "\n",
    "numtotal = nrows*ncols\n",
    "\n",
    "print(\"The total number of grids in the dataset is:\", numtotal)"
   ]
  },
  {
   "cell_type": "code",
   "execution_count": 6,
   "id": "cad407cd",
   "metadata": {},
   "outputs": [
    {
     "data": {
      "text/plain": [
       "115"
      ]
     },
     "execution_count": 6,
     "metadata": {},
     "output_type": "execute_result"
    }
   ],
   "source": [
    "nrows"
   ]
  },
  {
   "cell_type": "code",
   "execution_count": 9,
   "id": "27a39a3b",
   "metadata": {},
   "outputs": [
    {
     "data": {
      "text/plain": [
       "<open DatasetReader name='C:/Users/User/OneDrive/IST/RESEARCH/5_SPI/rondonia/dnCHIRPS/dnchirps198101.bil' mode='r'>"
      ]
     },
     "execution_count": 9,
     "metadata": {},
     "output_type": "execute_result"
    }
   ],
   "source": [
    "RasterLayer"
   ]
  },
  {
   "cell_type": "markdown",
   "id": "ba561117",
   "metadata": {},
   "source": [
    "We create one array to be filled:"
   ]
  },
  {
   "cell_type": "code",
   "execution_count": 16,
   "id": "36d6ecbb",
   "metadata": {},
   "outputs": [
    {
     "data": {
      "text/plain": [
       "(468, 16330)"
      ]
     },
     "execution_count": 16,
     "metadata": {},
     "output_type": "execute_result"
    }
   ],
   "source": [
    "precmongrids = np.zeros((len(filenames),numtotal),dtype=np.float32)\n",
    "precmongrids.shape"
   ]
  },
  {
   "cell_type": "markdown",
   "id": "bf1f593e",
   "metadata": {},
   "source": [
    "Now we proceed with the data lecture and organization:"
   ]
  },
  {
   "cell_type": "code",
   "execution_count": 17,
   "id": "bd293d6c",
   "metadata": {},
   "outputs": [
    {
     "data": {
      "text/plain": [
       "array([[275, 279, 271, ..., 417, 403, 382]], dtype=int16)"
      ]
     },
     "execution_count": 17,
     "metadata": {},
     "output_type": "execute_result"
    }
   ],
   "source": [
    "RasterLayer = rasterio.open(mapfile)\n",
    "mapreadarray = RasterLayer.read()[0,:,:]\n",
    "mapreadarrayres = np.reshape(mapreadarray, (1, numtotal))\n",
    "mapreadarrayres"
   ]
  },
  {
   "cell_type": "code",
   "execution_count": 19,
   "id": "5437fed7",
   "metadata": {},
   "outputs": [
    {
     "data": {
      "text/plain": [
       "(468, 16330)"
      ]
     },
     "execution_count": 19,
     "metadata": {},
     "output_type": "execute_result"
    }
   ],
   "source": [
    "precmongrids.shape"
   ]
  },
  {
   "cell_type": "code",
   "execution_count": 27,
   "id": "7f38a66a",
   "metadata": {},
   "outputs": [
    {
     "name": "stderr",
     "output_type": "stream",
     "text": [
      "100%|████████████████████████████████████████████████████████████████████████████████| 468/468 [00:07<00:00, 61.88it/s]"
     ]
    },
    {
     "name": "stdout",
     "output_type": "stream",
     "text": [
      "7.5892064571380615\n"
     ]
    },
    {
     "name": "stderr",
     "output_type": "stream",
     "text": [
      "\n"
     ]
    }
   ],
   "source": [
    "start = time.time()\n",
    "i = 0\n",
    "for mapfile in tqdm.tqdm(filenames):\n",
    "\n",
    "    #namewithmap = os.path.basename(mapfile)\n",
    "    #namemap = namewithmap.replace(\".bil\", \"\")\n",
    "    #namemap = namemap.replace(\"dnchirps\", \"\")\n",
    "    \n",
    "    \n",
    "    RasterLayer = rasterio.open(mapfile)\n",
    "    mapreadarray = RasterLayer.read()[0,:,:]\n",
    "    mapreadarrayres = np.reshape(mapreadarray, (1, numtotal))\n",
    "    precmongrids[i,:] = mapreadarrayres\n",
    "    \n",
    "    i = i + 1\n",
    "end = time.time()\n",
    "print(end - start)"
   ]
  },
  {
   "cell_type": "code",
   "execution_count": 26,
   "id": "f6826538",
   "metadata": {},
   "outputs": [
    {
     "data": {
      "text/plain": [
       "(468, 16330)"
      ]
     },
     "execution_count": 26,
     "metadata": {},
     "output_type": "execute_result"
    }
   ],
   "source": [
    "precmongrids.shape"
   ]
  },
  {
   "cell_type": "code",
   "execution_count": 20,
   "id": "adf08986",
   "metadata": {},
   "outputs": [],
   "source": [
    "precmongridsdf = pd.DataFrame(index = pd.date_range(start='1-1981', end='1-2020', freq='M') , data = precmongrids)"
   ]
  },
  {
   "cell_type": "code",
   "execution_count": 21,
   "id": "7041bc9d",
   "metadata": {},
   "outputs": [
    {
     "data": {
      "text/html": [
       "<div>\n",
       "<style scoped>\n",
       "    .dataframe tbody tr th:only-of-type {\n",
       "        vertical-align: middle;\n",
       "    }\n",
       "\n",
       "    .dataframe tbody tr th {\n",
       "        vertical-align: top;\n",
       "    }\n",
       "\n",
       "    .dataframe thead th {\n",
       "        text-align: right;\n",
       "    }\n",
       "</style>\n",
       "<table border=\"1\" class=\"dataframe\">\n",
       "  <thead>\n",
       "    <tr style=\"text-align: right;\">\n",
       "      <th></th>\n",
       "      <th>0</th>\n",
       "      <th>1</th>\n",
       "      <th>2</th>\n",
       "      <th>3</th>\n",
       "      <th>4</th>\n",
       "      <th>5</th>\n",
       "      <th>6</th>\n",
       "      <th>7</th>\n",
       "      <th>8</th>\n",
       "      <th>9</th>\n",
       "      <th>...</th>\n",
       "      <th>16320</th>\n",
       "      <th>16321</th>\n",
       "      <th>16322</th>\n",
       "      <th>16323</th>\n",
       "      <th>16324</th>\n",
       "      <th>16325</th>\n",
       "      <th>16326</th>\n",
       "      <th>16327</th>\n",
       "      <th>16328</th>\n",
       "      <th>16329</th>\n",
       "    </tr>\n",
       "  </thead>\n",
       "  <tbody>\n",
       "    <tr>\n",
       "      <th>1981-01-31</th>\n",
       "      <td>0.0</td>\n",
       "      <td>0.0</td>\n",
       "      <td>0.0</td>\n",
       "      <td>0.0</td>\n",
       "      <td>0.0</td>\n",
       "      <td>0.0</td>\n",
       "      <td>0.0</td>\n",
       "      <td>0.0</td>\n",
       "      <td>0.0</td>\n",
       "      <td>0.0</td>\n",
       "      <td>...</td>\n",
       "      <td>0.0</td>\n",
       "      <td>0.0</td>\n",
       "      <td>0.0</td>\n",
       "      <td>0.0</td>\n",
       "      <td>0.0</td>\n",
       "      <td>0.0</td>\n",
       "      <td>0.0</td>\n",
       "      <td>0.0</td>\n",
       "      <td>0.0</td>\n",
       "      <td>0.0</td>\n",
       "    </tr>\n",
       "    <tr>\n",
       "      <th>1981-02-28</th>\n",
       "      <td>0.0</td>\n",
       "      <td>0.0</td>\n",
       "      <td>0.0</td>\n",
       "      <td>0.0</td>\n",
       "      <td>0.0</td>\n",
       "      <td>0.0</td>\n",
       "      <td>0.0</td>\n",
       "      <td>0.0</td>\n",
       "      <td>0.0</td>\n",
       "      <td>0.0</td>\n",
       "      <td>...</td>\n",
       "      <td>0.0</td>\n",
       "      <td>0.0</td>\n",
       "      <td>0.0</td>\n",
       "      <td>0.0</td>\n",
       "      <td>0.0</td>\n",
       "      <td>0.0</td>\n",
       "      <td>0.0</td>\n",
       "      <td>0.0</td>\n",
       "      <td>0.0</td>\n",
       "      <td>0.0</td>\n",
       "    </tr>\n",
       "    <tr>\n",
       "      <th>1981-03-31</th>\n",
       "      <td>0.0</td>\n",
       "      <td>0.0</td>\n",
       "      <td>0.0</td>\n",
       "      <td>0.0</td>\n",
       "      <td>0.0</td>\n",
       "      <td>0.0</td>\n",
       "      <td>0.0</td>\n",
       "      <td>0.0</td>\n",
       "      <td>0.0</td>\n",
       "      <td>0.0</td>\n",
       "      <td>...</td>\n",
       "      <td>0.0</td>\n",
       "      <td>0.0</td>\n",
       "      <td>0.0</td>\n",
       "      <td>0.0</td>\n",
       "      <td>0.0</td>\n",
       "      <td>0.0</td>\n",
       "      <td>0.0</td>\n",
       "      <td>0.0</td>\n",
       "      <td>0.0</td>\n",
       "      <td>0.0</td>\n",
       "    </tr>\n",
       "    <tr>\n",
       "      <th>1981-04-30</th>\n",
       "      <td>0.0</td>\n",
       "      <td>0.0</td>\n",
       "      <td>0.0</td>\n",
       "      <td>0.0</td>\n",
       "      <td>0.0</td>\n",
       "      <td>0.0</td>\n",
       "      <td>0.0</td>\n",
       "      <td>0.0</td>\n",
       "      <td>0.0</td>\n",
       "      <td>0.0</td>\n",
       "      <td>...</td>\n",
       "      <td>0.0</td>\n",
       "      <td>0.0</td>\n",
       "      <td>0.0</td>\n",
       "      <td>0.0</td>\n",
       "      <td>0.0</td>\n",
       "      <td>0.0</td>\n",
       "      <td>0.0</td>\n",
       "      <td>0.0</td>\n",
       "      <td>0.0</td>\n",
       "      <td>0.0</td>\n",
       "    </tr>\n",
       "    <tr>\n",
       "      <th>1981-05-31</th>\n",
       "      <td>0.0</td>\n",
       "      <td>0.0</td>\n",
       "      <td>0.0</td>\n",
       "      <td>0.0</td>\n",
       "      <td>0.0</td>\n",
       "      <td>0.0</td>\n",
       "      <td>0.0</td>\n",
       "      <td>0.0</td>\n",
       "      <td>0.0</td>\n",
       "      <td>0.0</td>\n",
       "      <td>...</td>\n",
       "      <td>0.0</td>\n",
       "      <td>0.0</td>\n",
       "      <td>0.0</td>\n",
       "      <td>0.0</td>\n",
       "      <td>0.0</td>\n",
       "      <td>0.0</td>\n",
       "      <td>0.0</td>\n",
       "      <td>0.0</td>\n",
       "      <td>0.0</td>\n",
       "      <td>0.0</td>\n",
       "    </tr>\n",
       "    <tr>\n",
       "      <th>...</th>\n",
       "      <td>...</td>\n",
       "      <td>...</td>\n",
       "      <td>...</td>\n",
       "      <td>...</td>\n",
       "      <td>...</td>\n",
       "      <td>...</td>\n",
       "      <td>...</td>\n",
       "      <td>...</td>\n",
       "      <td>...</td>\n",
       "      <td>...</td>\n",
       "      <td>...</td>\n",
       "      <td>...</td>\n",
       "      <td>...</td>\n",
       "      <td>...</td>\n",
       "      <td>...</td>\n",
       "      <td>...</td>\n",
       "      <td>...</td>\n",
       "      <td>...</td>\n",
       "      <td>...</td>\n",
       "      <td>...</td>\n",
       "      <td>...</td>\n",
       "    </tr>\n",
       "    <tr>\n",
       "      <th>2019-08-31</th>\n",
       "      <td>0.0</td>\n",
       "      <td>0.0</td>\n",
       "      <td>0.0</td>\n",
       "      <td>0.0</td>\n",
       "      <td>0.0</td>\n",
       "      <td>0.0</td>\n",
       "      <td>0.0</td>\n",
       "      <td>0.0</td>\n",
       "      <td>0.0</td>\n",
       "      <td>0.0</td>\n",
       "      <td>...</td>\n",
       "      <td>0.0</td>\n",
       "      <td>0.0</td>\n",
       "      <td>0.0</td>\n",
       "      <td>0.0</td>\n",
       "      <td>0.0</td>\n",
       "      <td>0.0</td>\n",
       "      <td>0.0</td>\n",
       "      <td>0.0</td>\n",
       "      <td>0.0</td>\n",
       "      <td>0.0</td>\n",
       "    </tr>\n",
       "    <tr>\n",
       "      <th>2019-09-30</th>\n",
       "      <td>0.0</td>\n",
       "      <td>0.0</td>\n",
       "      <td>0.0</td>\n",
       "      <td>0.0</td>\n",
       "      <td>0.0</td>\n",
       "      <td>0.0</td>\n",
       "      <td>0.0</td>\n",
       "      <td>0.0</td>\n",
       "      <td>0.0</td>\n",
       "      <td>0.0</td>\n",
       "      <td>...</td>\n",
       "      <td>0.0</td>\n",
       "      <td>0.0</td>\n",
       "      <td>0.0</td>\n",
       "      <td>0.0</td>\n",
       "      <td>0.0</td>\n",
       "      <td>0.0</td>\n",
       "      <td>0.0</td>\n",
       "      <td>0.0</td>\n",
       "      <td>0.0</td>\n",
       "      <td>0.0</td>\n",
       "    </tr>\n",
       "    <tr>\n",
       "      <th>2019-10-31</th>\n",
       "      <td>0.0</td>\n",
       "      <td>0.0</td>\n",
       "      <td>0.0</td>\n",
       "      <td>0.0</td>\n",
       "      <td>0.0</td>\n",
       "      <td>0.0</td>\n",
       "      <td>0.0</td>\n",
       "      <td>0.0</td>\n",
       "      <td>0.0</td>\n",
       "      <td>0.0</td>\n",
       "      <td>...</td>\n",
       "      <td>0.0</td>\n",
       "      <td>0.0</td>\n",
       "      <td>0.0</td>\n",
       "      <td>0.0</td>\n",
       "      <td>0.0</td>\n",
       "      <td>0.0</td>\n",
       "      <td>0.0</td>\n",
       "      <td>0.0</td>\n",
       "      <td>0.0</td>\n",
       "      <td>0.0</td>\n",
       "    </tr>\n",
       "    <tr>\n",
       "      <th>2019-11-30</th>\n",
       "      <td>0.0</td>\n",
       "      <td>0.0</td>\n",
       "      <td>0.0</td>\n",
       "      <td>0.0</td>\n",
       "      <td>0.0</td>\n",
       "      <td>0.0</td>\n",
       "      <td>0.0</td>\n",
       "      <td>0.0</td>\n",
       "      <td>0.0</td>\n",
       "      <td>0.0</td>\n",
       "      <td>...</td>\n",
       "      <td>0.0</td>\n",
       "      <td>0.0</td>\n",
       "      <td>0.0</td>\n",
       "      <td>0.0</td>\n",
       "      <td>0.0</td>\n",
       "      <td>0.0</td>\n",
       "      <td>0.0</td>\n",
       "      <td>0.0</td>\n",
       "      <td>0.0</td>\n",
       "      <td>0.0</td>\n",
       "    </tr>\n",
       "    <tr>\n",
       "      <th>2019-12-31</th>\n",
       "      <td>0.0</td>\n",
       "      <td>0.0</td>\n",
       "      <td>0.0</td>\n",
       "      <td>0.0</td>\n",
       "      <td>0.0</td>\n",
       "      <td>0.0</td>\n",
       "      <td>0.0</td>\n",
       "      <td>0.0</td>\n",
       "      <td>0.0</td>\n",
       "      <td>0.0</td>\n",
       "      <td>...</td>\n",
       "      <td>0.0</td>\n",
       "      <td>0.0</td>\n",
       "      <td>0.0</td>\n",
       "      <td>0.0</td>\n",
       "      <td>0.0</td>\n",
       "      <td>0.0</td>\n",
       "      <td>0.0</td>\n",
       "      <td>0.0</td>\n",
       "      <td>0.0</td>\n",
       "      <td>0.0</td>\n",
       "    </tr>\n",
       "  </tbody>\n",
       "</table>\n",
       "<p>468 rows × 16330 columns</p>\n",
       "</div>"
      ],
      "text/plain": [
       "            0      1      2      3      4      5      6      7      8      \\\n",
       "1981-01-31    0.0    0.0    0.0    0.0    0.0    0.0    0.0    0.0    0.0   \n",
       "1981-02-28    0.0    0.0    0.0    0.0    0.0    0.0    0.0    0.0    0.0   \n",
       "1981-03-31    0.0    0.0    0.0    0.0    0.0    0.0    0.0    0.0    0.0   \n",
       "1981-04-30    0.0    0.0    0.0    0.0    0.0    0.0    0.0    0.0    0.0   \n",
       "1981-05-31    0.0    0.0    0.0    0.0    0.0    0.0    0.0    0.0    0.0   \n",
       "...           ...    ...    ...    ...    ...    ...    ...    ...    ...   \n",
       "2019-08-31    0.0    0.0    0.0    0.0    0.0    0.0    0.0    0.0    0.0   \n",
       "2019-09-30    0.0    0.0    0.0    0.0    0.0    0.0    0.0    0.0    0.0   \n",
       "2019-10-31    0.0    0.0    0.0    0.0    0.0    0.0    0.0    0.0    0.0   \n",
       "2019-11-30    0.0    0.0    0.0    0.0    0.0    0.0    0.0    0.0    0.0   \n",
       "2019-12-31    0.0    0.0    0.0    0.0    0.0    0.0    0.0    0.0    0.0   \n",
       "\n",
       "            9      ...  16320  16321  16322  16323  16324  16325  16326  \\\n",
       "1981-01-31    0.0  ...    0.0    0.0    0.0    0.0    0.0    0.0    0.0   \n",
       "1981-02-28    0.0  ...    0.0    0.0    0.0    0.0    0.0    0.0    0.0   \n",
       "1981-03-31    0.0  ...    0.0    0.0    0.0    0.0    0.0    0.0    0.0   \n",
       "1981-04-30    0.0  ...    0.0    0.0    0.0    0.0    0.0    0.0    0.0   \n",
       "1981-05-31    0.0  ...    0.0    0.0    0.0    0.0    0.0    0.0    0.0   \n",
       "...           ...  ...    ...    ...    ...    ...    ...    ...    ...   \n",
       "2019-08-31    0.0  ...    0.0    0.0    0.0    0.0    0.0    0.0    0.0   \n",
       "2019-09-30    0.0  ...    0.0    0.0    0.0    0.0    0.0    0.0    0.0   \n",
       "2019-10-31    0.0  ...    0.0    0.0    0.0    0.0    0.0    0.0    0.0   \n",
       "2019-11-30    0.0  ...    0.0    0.0    0.0    0.0    0.0    0.0    0.0   \n",
       "2019-12-31    0.0  ...    0.0    0.0    0.0    0.0    0.0    0.0    0.0   \n",
       "\n",
       "            16327  16328  16329  \n",
       "1981-01-31    0.0    0.0    0.0  \n",
       "1981-02-28    0.0    0.0    0.0  \n",
       "1981-03-31    0.0    0.0    0.0  \n",
       "1981-04-30    0.0    0.0    0.0  \n",
       "1981-05-31    0.0    0.0    0.0  \n",
       "...           ...    ...    ...  \n",
       "2019-08-31    0.0    0.0    0.0  \n",
       "2019-09-30    0.0    0.0    0.0  \n",
       "2019-10-31    0.0    0.0    0.0  \n",
       "2019-11-30    0.0    0.0    0.0  \n",
       "2019-12-31    0.0    0.0    0.0  \n",
       "\n",
       "[468 rows x 16330 columns]"
      ]
     },
     "execution_count": 21,
     "metadata": {},
     "output_type": "execute_result"
    }
   ],
   "source": [
    "precmongridsdf"
   ]
  },
  {
   "cell_type": "markdown",
   "id": "f9ae6026",
   "metadata": {},
   "source": [
    "Now we export our dataset to a .CSV to be easily opened afterwards:"
   ]
  },
  {
   "cell_type": "code",
   "execution_count": 9,
   "id": "d606f998",
   "metadata": {},
   "outputs": [],
   "source": [
    "#np.savetxt(r'C:\\Users\\User\\OneDrive\\IST\\RESEARCH\\5_SPI\\rondonia\\precmongrids.csv', precmongrids, delimiter=',')"
   ]
  },
  {
   "cell_type": "markdown",
   "id": "eadcb2a3",
   "metadata": {},
   "source": [
    "If we want to save our datafrane in a .XLSX file:"
   ]
  },
  {
   "cell_type": "code",
   "execution_count": 10,
   "id": "c6fae88d",
   "metadata": {},
   "outputs": [],
   "source": [
    "#precmongridsdf.to_excel(r'C:\\Users\\User\\OneDrive\\IST\\RESEARCH\\5_SPI\\rondonia\\precmongrids.xlsx')"
   ]
  },
  {
   "cell_type": "markdown",
   "id": "36b950cf",
   "metadata": {},
   "source": [
    "#### (b) SPI computation for each grid:"
   ]
  },
  {
   "cell_type": "code",
   "execution_count": 18,
   "id": "966c31fa",
   "metadata": {},
   "outputs": [],
   "source": [
    "import standard_precip\n",
    "from standard_precip import spi"
   ]
  },
  {
   "cell_type": "code",
   "execution_count": 53,
   "id": "93408100",
   "metadata": {},
   "outputs": [],
   "source": [
    "import warnings\n",
    "warnings.filterwarnings('ignore')"
   ]
  },
  {
   "cell_type": "code",
   "execution_count": null,
   "id": "94338cc6",
   "metadata": {},
   "outputs": [],
   "source": [
    "spi_rain = spi.SPI()"
   ]
  },
  {
   "cell_type": "code",
   "execution_count": 153,
   "id": "b203bd58",
   "metadata": {},
   "outputs": [],
   "source": [
    "data = pd.read_csv(r'C:\\Users\\User\\OneDrive\\IST\\RESEARCH\\5_SPI\\rondonia\\precmongrids.csv')"
   ]
  },
  {
   "cell_type": "code",
   "execution_count": 154,
   "id": "426ace0d",
   "metadata": {},
   "outputs": [
    {
     "data": {
      "text/plain": [
       "16330"
      ]
     },
     "execution_count": 154,
     "metadata": {},
     "output_type": "execute_result"
    }
   ],
   "source": [
    "numgrids = data.shape[1] - 1\n",
    "numgrids"
   ]
  },
  {
   "cell_type": "code",
   "execution_count": 155,
   "id": "9669939c",
   "metadata": {},
   "outputs": [],
   "source": [
    "tipos_de_spi = [1, 3, 6, 9, 12, 24]"
   ]
  },
  {
   "cell_type": "code",
   "execution_count": 156,
   "id": "5b51cdae",
   "metadata": {},
   "outputs": [],
   "source": [
    "spi3 = data.copy()\n",
    "spi3.iloc[:,:] = np.nan\n",
    "spi3.drop(['date'], axis=1, inplace = True)"
   ]
  },
  {
   "cell_type": "code",
   "execution_count": 157,
   "id": "999d0447",
   "metadata": {},
   "outputs": [],
   "source": [
    "spi1 = spi3.copy()\n",
    "spi6 = spi3.copy()\n",
    "spi9 = spi3.copy()\n",
    "spi12 = spi3.copy()\n",
    "spi24 = spi3.copy()"
   ]
  },
  {
   "cell_type": "code",
   "execution_count": 158,
   "id": "9be6da3e",
   "metadata": {},
   "outputs": [
    {
     "name": "stderr",
     "output_type": "stream",
     "text": [
      "100%|██████████████████████████████████████████████████████████████████████████| 16330/16330 [3:59:19<00:00,  1.14it/s]"
     ]
    },
    {
     "name": "stdout",
     "output_type": "stream",
     "text": [
      "14359.44906115532\n"
     ]
    },
    {
     "name": "stderr",
     "output_type": "stream",
     "text": [
      "\n"
     ]
    }
   ],
   "source": [
    "start = time.time()\n",
    "    \n",
    "for grid in tqdm.tqdm(range(numgrids)):\n",
    "#for grid in tqdm.tqdm(range(1)):\n",
    "\n",
    "    # SPI-1\n",
    "    aux = spi_rain.calculate(data, 'date', str(grid), freq=\"M\", scale=1, fit_type=\"lmom\", dist_type=\"gam\")    \n",
    "    spi1.iloc[:, grid] = aux.iloc[:,2]    \n",
    "    #data.drop(data.columns[-1], axis=1, inplace = True)\n",
    "    \n",
    "    # SPI-3\n",
    "    aux = spi_rain.calculate(data, 'date', str(grid), freq=\"M\", scale=3, fit_type=\"lmom\", dist_type=\"gam\")    \n",
    "    spi3.iloc[:, grid] = aux.iloc[:,2]    \n",
    "    data.drop(data.columns[-1], axis=1, inplace = True)\n",
    "    \n",
    "    # SPI-6\n",
    "    aux = spi_rain.calculate(data, 'date', str(grid), freq=\"M\", scale=6, fit_type=\"lmom\", dist_type=\"gam\")    \n",
    "    spi6.iloc[:, grid] = aux.iloc[:,2]    \n",
    "    data.drop(data.columns[-1], axis=1, inplace = True)   \n",
    "    \n",
    "    # SPI-9\n",
    "    aux = spi_rain.calculate(data, 'date', str(grid), freq=\"M\", scale=9, fit_type=\"lmom\", dist_type=\"gam\")    \n",
    "    spi9.iloc[:, grid] = aux.iloc[:,2]    \n",
    "    data.drop(data.columns[-1], axis=1, inplace = True)\n",
    "    \n",
    "    # SPI-12\n",
    "    aux = spi_rain.calculate(data, 'date', str(grid), freq=\"M\", scale=12, fit_type=\"lmom\", dist_type=\"gam\")    \n",
    "    spi12.iloc[:, grid] = aux.iloc[:,2]    \n",
    "    data.drop(data.columns[-1], axis=1, inplace = True)\n",
    "    \n",
    "    # SPI-24\n",
    "    aux = spi_rain.calculate(data, 'date', str(grid), freq=\"M\", scale=24, fit_type=\"lmom\", dist_type=\"gam\")    \n",
    "    spi24.iloc[:, grid] = aux.iloc[:,2]    \n",
    "    data.drop(data.columns[-1], axis=1, inplace = True)\n",
    "    \n",
    "end = time.time()\n",
    "print(end - start)"
   ]
  },
  {
   "cell_type": "code",
   "execution_count": 167,
   "id": "dcb3c25c",
   "metadata": {},
   "outputs": [],
   "source": [
    "np.savetxt(r'C:\\Users\\User\\OneDrive\\IST\\RESEARCH\\5_SPI\\rondonia\\spi1.csv', spi1, delimiter=',')"
   ]
  },
  {
   "cell_type": "code",
   "execution_count": 168,
   "id": "933afdb5",
   "metadata": {},
   "outputs": [],
   "source": [
    "np.savetxt(r'C:\\Users\\User\\OneDrive\\IST\\RESEARCH\\5_SPI\\rondonia\\spi3.csv', spi3, delimiter=',')"
   ]
  },
  {
   "cell_type": "code",
   "execution_count": 169,
   "id": "0d10aedf",
   "metadata": {},
   "outputs": [],
   "source": [
    "np.savetxt(r'C:\\Users\\User\\OneDrive\\IST\\RESEARCH\\5_SPI\\rondonia\\spi6.csv', spi6, delimiter=',')"
   ]
  },
  {
   "cell_type": "code",
   "execution_count": 170,
   "id": "d4e2f359",
   "metadata": {},
   "outputs": [],
   "source": [
    "np.savetxt(r'C:\\Users\\User\\OneDrive\\IST\\RESEARCH\\5_SPI\\rondonia\\spi9.csv', spi9, delimiter=',')"
   ]
  },
  {
   "cell_type": "code",
   "execution_count": 171,
   "id": "280d2d99",
   "metadata": {},
   "outputs": [],
   "source": [
    "np.savetxt(r'C:\\Users\\User\\OneDrive\\IST\\RESEARCH\\5_SPI\\rondonia\\spi12.csv', spi12, delimiter=',')"
   ]
  },
  {
   "cell_type": "code",
   "execution_count": 172,
   "id": "1c7315f3",
   "metadata": {},
   "outputs": [],
   "source": [
    "np.savetxt(r'C:\\Users\\User\\OneDrive\\IST\\RESEARCH\\5_SPI\\rondonia\\spi24.csv', spi24, delimiter=',')"
   ]
  }
 ],
 "metadata": {
  "kernelspec": {
   "display_name": "Python 3 (ipykernel)",
   "language": "python",
   "name": "python3"
  },
  "language_info": {
   "codemirror_mode": {
    "name": "ipython",
    "version": 3
   },
   "file_extension": ".py",
   "mimetype": "text/x-python",
   "name": "python",
   "nbconvert_exporter": "python",
   "pygments_lexer": "ipython3",
   "version": "3.10.2"
  }
 },
 "nbformat": 4,
 "nbformat_minor": 5
}
