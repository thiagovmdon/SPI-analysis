{
 "cells": [
  {
   "cell_type": "markdown",
   "id": "5961a577",
   "metadata": {},
   "source": [
    "### Code used for automatic generation of grids:\n",
    "#### The main application is for generate centroids of sattelite precipitation data for instance (TRMM).\n",
    "\n",
    "\n",
    "(a) The latitude and longitude are computed as being from left to right and from upper to down;\n",
    "\n",
    "(b) Pay attention on where you have the space positive or negative, for instance, for Paraiba and TRMM, 0.25 is negative for latitude and positive for longitude. Try to pay attention on where is the (0, 0) of the equator and Greenwich. "
   ]
  },
  {
   "cell_type": "code",
   "execution_count": 1,
   "id": "2a87563d",
   "metadata": {},
   "outputs": [],
   "source": [
    "import numpy as np\n",
    "import pandas as pd\n",
    "import geopandas as gpd\n",
    "import matplotlib.pyplot as plt\n",
    "from shapely.geometry import Point, Polygon"
   ]
  },
  {
   "cell_type": "code",
   "execution_count": 3,
   "id": "eab4f6a0",
   "metadata": {},
   "outputs": [],
   "source": [
    "#Example for Paraiba state (TRMM):\n",
    "#lat = np.arange(-5.875, -8.375, -0.25)\n",
    "#lon = np.arange(-38.875, -34.875, -0.25)\n",
    "\n",
    "# Lat and lon must be set with one extra, because python does not consider the last:\n",
    "\n",
    "lat = np.arange(-5.875, -8.625, -0.25)\n",
    "lon = np.arange(-38.875, -34.625, 0.25)"
   ]
  },
  {
   "cell_type": "code",
   "execution_count": 4,
   "id": "323a76d1",
   "metadata": {},
   "outputs": [
    {
     "data": {
      "text/html": [
       "<div>\n",
       "<style scoped>\n",
       "    .dataframe tbody tr th:only-of-type {\n",
       "        vertical-align: middle;\n",
       "    }\n",
       "\n",
       "    .dataframe tbody tr th {\n",
       "        vertical-align: top;\n",
       "    }\n",
       "\n",
       "    .dataframe thead tr th {\n",
       "        text-align: left;\n",
       "    }\n",
       "</style>\n",
       "<table border=\"1\" class=\"dataframe\">\n",
       "  <thead>\n",
       "    <tr>\n",
       "      <th></th>\n",
       "      <th>Lat</th>\n",
       "      <th>Lon</th>\n",
       "    </tr>\n",
       "  </thead>\n",
       "  <tbody>\n",
       "    <tr>\n",
       "      <th>0</th>\n",
       "      <td>NaN</td>\n",
       "      <td>NaN</td>\n",
       "    </tr>\n",
       "    <tr>\n",
       "      <th>1</th>\n",
       "      <td>NaN</td>\n",
       "      <td>NaN</td>\n",
       "    </tr>\n",
       "    <tr>\n",
       "      <th>2</th>\n",
       "      <td>NaN</td>\n",
       "      <td>NaN</td>\n",
       "    </tr>\n",
       "    <tr>\n",
       "      <th>3</th>\n",
       "      <td>NaN</td>\n",
       "      <td>NaN</td>\n",
       "    </tr>\n",
       "    <tr>\n",
       "      <th>4</th>\n",
       "      <td>NaN</td>\n",
       "      <td>NaN</td>\n",
       "    </tr>\n",
       "    <tr>\n",
       "      <th>...</th>\n",
       "      <td>...</td>\n",
       "      <td>...</td>\n",
       "    </tr>\n",
       "    <tr>\n",
       "      <th>182</th>\n",
       "      <td>NaN</td>\n",
       "      <td>NaN</td>\n",
       "    </tr>\n",
       "    <tr>\n",
       "      <th>183</th>\n",
       "      <td>NaN</td>\n",
       "      <td>NaN</td>\n",
       "    </tr>\n",
       "    <tr>\n",
       "      <th>184</th>\n",
       "      <td>NaN</td>\n",
       "      <td>NaN</td>\n",
       "    </tr>\n",
       "    <tr>\n",
       "      <th>185</th>\n",
       "      <td>NaN</td>\n",
       "      <td>NaN</td>\n",
       "    </tr>\n",
       "    <tr>\n",
       "      <th>186</th>\n",
       "      <td>NaN</td>\n",
       "      <td>NaN</td>\n",
       "    </tr>\n",
       "  </tbody>\n",
       "</table>\n",
       "<p>187 rows × 2 columns</p>\n",
       "</div>"
      ],
      "text/plain": [
       "    Lat Lon\n",
       "0   NaN NaN\n",
       "1   NaN NaN\n",
       "2   NaN NaN\n",
       "3   NaN NaN\n",
       "4   NaN NaN\n",
       "..   ..  ..\n",
       "182 NaN NaN\n",
       "183 NaN NaN\n",
       "184 NaN NaN\n",
       "185 NaN NaN\n",
       "186 NaN NaN\n",
       "\n",
       "[187 rows x 2 columns]"
      ]
     },
     "execution_count": 4,
     "metadata": {},
     "output_type": "execute_result"
    }
   ],
   "source": [
    "num_rows = len(lat) * len(lon)\n",
    "\n",
    "coord_grids = pd.DataFrame(np.nan, index = range(num_rows), columns = [['Lat', 'Lon']])\n",
    "coord_grids"
   ]
  },
  {
   "cell_type": "code",
   "execution_count": 5,
   "id": "c3cd8599",
   "metadata": {},
   "outputs": [],
   "source": [
    "z = 0\n",
    "for i in lat:\n",
    "    j = 0\n",
    "    for j in lon:\n",
    "        coord_grids.iloc[z, 0]  = i\n",
    "        coord_grids.iloc[z, 1] = j\n",
    "        z = z + 1"
   ]
  },
  {
   "cell_type": "code",
   "execution_count": 6,
   "id": "00b6b52b",
   "metadata": {},
   "outputs": [
    {
     "data": {
      "text/html": [
       "<div>\n",
       "<style scoped>\n",
       "    .dataframe tbody tr th:only-of-type {\n",
       "        vertical-align: middle;\n",
       "    }\n",
       "\n",
       "    .dataframe tbody tr th {\n",
       "        vertical-align: top;\n",
       "    }\n",
       "\n",
       "    .dataframe thead tr th {\n",
       "        text-align: left;\n",
       "    }\n",
       "</style>\n",
       "<table border=\"1\" class=\"dataframe\">\n",
       "  <thead>\n",
       "    <tr>\n",
       "      <th></th>\n",
       "      <th>Lat</th>\n",
       "      <th>Lon</th>\n",
       "    </tr>\n",
       "  </thead>\n",
       "  <tbody>\n",
       "    <tr>\n",
       "      <th>0</th>\n",
       "      <td>-5.875</td>\n",
       "      <td>-38.875</td>\n",
       "    </tr>\n",
       "    <tr>\n",
       "      <th>1</th>\n",
       "      <td>-5.875</td>\n",
       "      <td>-38.625</td>\n",
       "    </tr>\n",
       "    <tr>\n",
       "      <th>2</th>\n",
       "      <td>-5.875</td>\n",
       "      <td>-38.375</td>\n",
       "    </tr>\n",
       "    <tr>\n",
       "      <th>3</th>\n",
       "      <td>-5.875</td>\n",
       "      <td>-38.125</td>\n",
       "    </tr>\n",
       "    <tr>\n",
       "      <th>4</th>\n",
       "      <td>-5.875</td>\n",
       "      <td>-37.875</td>\n",
       "    </tr>\n",
       "    <tr>\n",
       "      <th>...</th>\n",
       "      <td>...</td>\n",
       "      <td>...</td>\n",
       "    </tr>\n",
       "    <tr>\n",
       "      <th>182</th>\n",
       "      <td>-8.375</td>\n",
       "      <td>-35.875</td>\n",
       "    </tr>\n",
       "    <tr>\n",
       "      <th>183</th>\n",
       "      <td>-8.375</td>\n",
       "      <td>-35.625</td>\n",
       "    </tr>\n",
       "    <tr>\n",
       "      <th>184</th>\n",
       "      <td>-8.375</td>\n",
       "      <td>-35.375</td>\n",
       "    </tr>\n",
       "    <tr>\n",
       "      <th>185</th>\n",
       "      <td>-8.375</td>\n",
       "      <td>-35.125</td>\n",
       "    </tr>\n",
       "    <tr>\n",
       "      <th>186</th>\n",
       "      <td>-8.375</td>\n",
       "      <td>-34.875</td>\n",
       "    </tr>\n",
       "  </tbody>\n",
       "</table>\n",
       "<p>187 rows × 2 columns</p>\n",
       "</div>"
      ],
      "text/plain": [
       "       Lat     Lon\n",
       "0   -5.875 -38.875\n",
       "1   -5.875 -38.625\n",
       "2   -5.875 -38.375\n",
       "3   -5.875 -38.125\n",
       "4   -5.875 -37.875\n",
       "..     ...     ...\n",
       "182 -8.375 -35.875\n",
       "183 -8.375 -35.625\n",
       "184 -8.375 -35.375\n",
       "185 -8.375 -35.125\n",
       "186 -8.375 -34.875\n",
       "\n",
       "[187 rows x 2 columns]"
      ]
     },
     "execution_count": 6,
     "metadata": {},
     "output_type": "execute_result"
    }
   ],
   "source": [
    "coord_grids"
   ]
  },
  {
   "cell_type": "markdown",
   "id": "d00f6dc7",
   "metadata": {},
   "source": [
    "Visualization using geopandas:"
   ]
  },
  {
   "cell_type": "code",
   "execution_count": 46,
   "id": "00f8995d",
   "metadata": {},
   "outputs": [
    {
     "data": {
      "text/plain": [
       "GridID      int64\n",
       "Lat       float64\n",
       "Lon       float64\n",
       "dtype: object"
      ]
     },
     "execution_count": 46,
     "metadata": {},
     "output_type": "execute_result"
    }
   ],
   "source": [
    "coords_df = pd.DataFrame({'GridID': range(len(coord_grids)),\n",
    "                         'Lat': coord_grids.Lat.values[:,0],\n",
    "                         'Lon': coord_grids.Lon.values[:,0]})\n",
    "coords_df.dtypes"
   ]
  },
  {
   "cell_type": "code",
   "execution_count": 49,
   "id": "bcac8df3",
   "metadata": {},
   "outputs": [
    {
     "name": "stderr",
     "output_type": "stream",
     "text": [
      "C:\\Users\\User\\anaconda3\\envs\\geopandas\\lib\\site-packages\\pyproj\\crs\\crs.py:131: FutureWarning: '+init=<authority>:<code>' syntax is deprecated. '<authority>:<code>' is the preferred initialization method. When making the change, be mindful of axis order changes: https://pyproj4.github.io/pyproj/stable/gotchas.html#axis-order-changes-in-proj-6\n",
      "  in_crs_string = _prepare_from_proj_string(in_crs_string)\n"
     ]
    }
   ],
   "source": [
    "crs={'init':'epsg:4326'}\n",
    "\n",
    "geometry=[Point(xy) for xy in zip(coords_df[\"Lon\"], coords_df[\"Lat\"])]\n",
    "geodata=gpd.GeoDataFrame(coords_df,crs=crs, geometry=geometry)"
   ]
  },
  {
   "cell_type": "code",
   "execution_count": 54,
   "id": "f2a8ce5a",
   "metadata": {},
   "outputs": [
    {
     "data": {
      "text/plain": [
       "<AxesSubplot:>"
      ]
     },
     "execution_count": 54,
     "metadata": {},
     "output_type": "execute_result"
    },
    {
     "data": {
      "image/png": "[encoded data removed]",
      "text/plain": [
       "<Figure size 432x288 with 1 Axes>"
      ]
     },
     "metadata": {
      "needs_background": "light"
     },
     "output_type": "display_data"
    }
   ],
   "source": [
    "# Plot:\n",
    "fig, ax = plt.subplots()\n",
    "geodata.plot(ax=ax)"
   ]
  },
  {
   "cell_type": "code",
   "execution_count": null,
   "id": "8b0074cc",
   "metadata": {},
   "outputs": [],
   "source": []
  }
 ],
 "metadata": {
  "kernelspec": {
   "display_name": "Python 3 (ipykernel)",
   "language": "python",
   "name": "python3"
  },
  "language_info": {
   "codemirror_mode": {
    "name": "ipython",
    "version": 3
   },
   "file_extension": ".py",
   "mimetype": "text/x-python",
   "name": "python",
   "nbconvert_exporter": "python",
   "pygments_lexer": "ipython3",
   "version": "3.10.2"
  }
 },
 "nbformat": 4,
 "nbformat_minor": 5
}
